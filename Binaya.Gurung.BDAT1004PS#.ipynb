{
 "cells": [
  {
   "cell_type": "markdown",
   "metadata": {},
   "source": [
    "# Problem Set 1\n",
    "### This problem set is based on lectures 1,2 and 3. For a complete list of topics please consult page 2 of the course syllabus. Please consult the “Instructions for Problem Set Submissions” document under course information before submitting your assignment."
   ]
  },
  {
   "cell_type": "markdown",
   "metadata": {},
   "source": [
    "## Question 1"
   ]
  },
  {
   "cell_type": "markdown",
   "metadata": {},
   "source": [
    "**What data type is each of the following?**"
   ]
  },
  {
   "cell_type": "markdown",
   "metadata": {},
   "source": [
    "- 5 = Integer\n",
    "- 5.0 = Float\n",
    "- 5 > 1 = Boolean\n",
    "- '5' = String\n",
    "- 5 * 2 = Integer\n",
    "- '5' * 2 = String\n",
    "- '5' * '2' = String\n",
    "- 5/2 = Float\n",
    "- 5//2 = Integer\n",
    "- [5,2,1] = List\n",
    "- 5 in [1,4,6] = Boolean\n",
    "- Math.pi = Float"
   ]
  },
  {
   "cell_type": "markdown",
   "metadata": {},
   "source": [
    "## Question 2"
   ]
  },
  {
   "cell_type": "markdown",
   "metadata": {},
   "source": [
    "**Write (and evaluate) Python expressions that answer these questions:**"
   ]
  },
  {
   "cell_type": "markdown",
   "metadata": {},
   "source": [
    "   **a. How many letters are there in 'Supercalifragilisticexpialidocious'?**"
   ]
  },
  {
   "cell_type": "code",
   "execution_count": 1,
   "metadata": {},
   "outputs": [
    {
     "name": "stdout",
     "output_type": "stream",
     "text": [
      "There are 34 letters.\n"
     ]
    }
   ],
   "source": [
    "word='Supercalifragilisticexpialidocious'\n",
    "print('There are',len(word),'letters.')"
   ]
  },
  {
   "cell_type": "markdown",
   "metadata": {},
   "source": [
    "**b. Does 'Supercalifragilisticexpialidocious' contain 'ice' as a substring?**"
   ]
  },
  {
   "cell_type": "code",
   "execution_count": 2,
   "metadata": {},
   "outputs": [
    {
     "name": "stdout",
     "output_type": "stream",
     "text": [
      "Yes\n"
     ]
    }
   ],
   "source": [
    "case = 'ice' in word\n",
    "if(case == True):\n",
    "    print('Yes')\n",
    "else:\n",
    "    print('No')"
   ]
  },
  {
   "cell_type": "markdown",
   "metadata": {},
   "source": [
    "**c. Which of the following words is the longest:Supercalifragilisticexpialidocious, Honorificabilitudinitatibus, or Bababadalgharaghtakamminarronnkonn?**"
   ]
  },
  {
   "cell_type": "code",
   "execution_count": 3,
   "metadata": {},
   "outputs": [
    {
     "name": "stdout",
     "output_type": "stream",
     "text": [
      "The Longest word is Supercalifragilisticexpialidocious\n"
     ]
    }
   ],
   "source": [
    "word_list=['Supercalifragilisticexpialidocious','Honorificabilitudinitatibus','Bababadalgharaghtakamminarronnkonn']\n",
    "long_word=max(word_list,key=len)\n",
    "print('The Longest word is',long_word)"
   ]
  },
  {
   "cell_type": "markdown",
   "metadata": {},
   "source": [
    "**d. Which composer comes first in the dictionary: 'Berlioz', 'Borodin', 'Brian',\n",
    "'Bartok', 'Bellini', 'Buxtehude', 'Bernstein'. Which one comes last?**"
   ]
  },
  {
   "cell_type": "code",
   "execution_count": 4,
   "metadata": {},
   "outputs": [
    {
     "name": "stdout",
     "output_type": "stream",
     "text": [
      "Bartok comes first in the dictionary\n",
      "Buxtehude comes last in the dictionary\n"
     ]
    }
   ],
   "source": [
    "Composer_list=['Berlioz','Borodin','Brian','Bartok','Bellini','Buxtehude','Bernstein']\n",
    "Composer_list.sort()\n",
    "print(Composer_list[0],'comes first in the dictionary')\n",
    "max_len=len(Composer_list)\n",
    "print(Composer_list[max_len-1],'comes last in the dictionary')"
   ]
  },
  {
   "cell_type": "markdown",
   "metadata": {},
   "source": [
    "## Question 3"
   ]
  },
  {
   "cell_type": "markdown",
   "metadata": {},
   "source": [
    "**a. Write a function inside(x,y,x1,y1,x2,y2) that returns True or False\n",
    "depending on whether the point (x,y) lies in the rectangle with lower left\n",
    "corner (x1,y1) and upper right corner (x2,y2).**"
   ]
  },
  {
   "cell_type": "code",
   "execution_count": 6,
   "metadata": {},
   "outputs": [
    {
     "data": {
      "text/plain": [
       "True"
      ]
     },
     "execution_count": 6,
     "metadata": {},
     "output_type": "execute_result"
    }
   ],
   "source": [
    "def inside(x,y,x1,y1,x2,y2):\n",
    "    if(x>x1 and y>y1 and x<x2 and y<y2):\n",
    "        return True\n",
    "    else:\n",
    "        return False\n",
    "inside(1,1,0,0,2,3)"
   ]
  },
  {
   "cell_type": "code",
   "execution_count": 7,
   "metadata": {},
   "outputs": [
    {
     "data": {
      "text/plain": [
       "False"
      ]
     },
     "execution_count": 7,
     "metadata": {},
     "output_type": "execute_result"
    }
   ],
   "source": [
    "inside(-1,-1,0,0,2,3)"
   ]
  },
  {
   "cell_type": "markdown",
   "metadata": {},
   "source": [
    "**b. Use function inside() from part a. to write an expression that tests whether\n",
    "the point (1,1) lies in both of the following rectangles: one with lower left\n",
    "corner (0.3, 0.5) and upper right corner (1.1, 0.7) and the other with lower\n",
    "left corner (0.5, 0.2) and upper right corner (1.1, 2).**"
   ]
  },
  {
   "cell_type": "code",
   "execution_count": 8,
   "metadata": {},
   "outputs": [
    {
     "data": {
      "text/plain": [
       "False"
      ]
     },
     "execution_count": 8,
     "metadata": {},
     "output_type": "execute_result"
    }
   ],
   "source": [
    "inside(1,1,0.3,0.5,1.1,0.7)"
   ]
  },
  {
   "cell_type": "code",
   "execution_count": 9,
   "metadata": {},
   "outputs": [
    {
     "data": {
      "text/plain": [
       "True"
      ]
     },
     "execution_count": 9,
     "metadata": {},
     "output_type": "execute_result"
    }
   ],
   "source": [
    "inside(1,1,0.5,0.2,1.1,2)"
   ]
  },
  {
   "cell_type": "markdown",
   "metadata": {},
   "source": [
    "## Question 4\n",
    "**You can turn a word into pig-Latin using the following two rules (simplified):**\n",
    "- **If the word starts with a consonant, move that letter to the end and append 'ay'. For example, 'happy' becomes 'appyhay' and 'pencil' becomes 'encilpay'.** \n",
    "- **If the word starts with a vowel, simply append 'way' to the end of the word. For example, 'enter' becomes 'enterway' and 'other' becomes 'otherway' . For our purposes, there are 5 vowels: a, e, i, o, u (so we count y as a consonant).**"
   ]
  },
  {
   "cell_type": "markdown",
   "metadata": {},
   "source": [
    "**Write a function pig() that takes a word (i.e., a string) as input and returns its pigLatin form. Your function should still work if the input word contains upper case\n",
    "characters. Your output should always be lower case however.**"
   ]
  },
  {
   "cell_type": "code",
   "execution_count": 32,
   "metadata": {},
   "outputs": [],
   "source": [
    "# https://geektechstuff.com/2018/12/12/convert-words-to-pig-latin-python/,\n",
    "def pig(in_word):\n",
    "    a='way'\n",
    "    b='ay'\n",
    "    consonant=['B','C','D','F','G','H','J','K','L','M','N','P','Q','R','S','T','Y','V','X','Z']\n",
    "    vowel=['A','E','I','O','U']\n",
    "    first_l=in_word[0]\n",
    "    final_word=' '\n",
    "    first_l=str(first_l)\n",
    "    first_l=first_l.upper()\n",
    "    if first_l in consonant:\n",
    "        print('The first letter is consonant.')\n",
    "        len_in=len(in_word)\n",
    "        rem_in=in_word[1:len_in]  #exclude first letter from user input\n",
    "        final_word=rem_in + first_l.lower() + b\n",
    "    elif first_l in vowel:\n",
    "        print('The first letter is vowel')\n",
    "        final_word=in_word.lower() + a\n",
    "    else:    \n",
    "        print('The word',first_l,'is undefined.')\n",
    "    print('The final letter in Pig Latin is:',final_word)"
   ]
  },
  {
   "cell_type": "code",
   "execution_count": 29,
   "metadata": {},
   "outputs": [
    {
     "name": "stdout",
     "output_type": "stream",
     "text": [
      "The first letter is consonant.\n",
      "The final letter in Pig Latin is: appyhay\n"
     ]
    }
   ],
   "source": [
    "pig('happy')"
   ]
  },
  {
   "cell_type": "markdown",
   "metadata": {},
   "source": [
    "## Question 5"
   ]
  },
  {
   "cell_type": "markdown",
   "metadata": {},
   "source": [
    "**File bloodtype1.txt records blood-types of patients (A, B, AB, O or OO) at a clinic.\n",
    "Write a function bldcount() that reads the file with name name and reports (i.e.,\n",
    "prints) how many patients there are in each bloodtype.**"
   ]
  },
  {
   "cell_type": "code",
   "execution_count": 3,
   "metadata": {},
   "outputs": [
    {
     "name": "stdout",
     "output_type": "stream",
     "text": [
      "There are 15 patients of blood type A.\n",
      "There is one patient of blood type B.\n",
      "There are 13 patients of blood type AB.\n",
      "There are 15 patients of blood type O.\n",
      "There are no patients of blood type OO.\n"
     ]
    }
   ],
   "source": [
    "def bldcount(filename):\n",
    "    blood_file=open(filename, 'r')\n",
    "    blood_content= blood_file.read()\n",
    "    blood_file.close()\n",
    "    blood_content=blood_content.split()\n",
    "    bloodtype = ['A','B','AB','O','OO']\n",
    "    for i in bloodtype:\n",
    "        if blood_content.count(i)==0:\n",
    "            print('There are no patients of blood type',i)\n",
    "        elif content.count(i)==1:\n",
    "            print('There is one patient of blood type',i)\n",
    "        else:print('There are',blood_content.count(i),'patients of blood type', i)\n",
    "bldcount('bloodtype1.txt')"
   ]
  },
  {
   "cell_type": "markdown",
   "metadata": {},
   "source": [
    "## Question 6"
   ]
  },
  {
   "cell_type": "markdown",
   "metadata": {},
   "source": [
    "**Write a function curconv() that takes as input:**"
   ]
  },
  {
   "cell_type": "markdown",
   "metadata": {},
   "source": [
    "**1. a currency represented using a string (e.g., 'JPY' for the Japanese Yen or**\n",
    "**'EUR' for the Euro)**"
   ]
  },
  {
   "cell_type": "code",
   "execution_count": 16,
   "metadata": {},
   "outputs": [
    {
     "ename": "NameError",
     "evalue": "name 'f' is not defined",
     "output_type": "error",
     "traceback": [
      "\u001b[1;31m---------------------------------------------------------------------------\u001b[0m",
      "\u001b[1;31mNameError\u001b[0m                                 Traceback (most recent call last)",
      "\u001b[1;32m<ipython-input-16-c7cdc6ea3bdb>\u001b[0m in \u001b[0;36m<module>\u001b[1;34m\u001b[0m\n\u001b[0;32m     10\u001b[0m             \u001b[0mmyArray\u001b[0m\u001b[1;33m[\u001b[0m\u001b[1;33m-\u001b[0m\u001b[1;36m2\u001b[0m\u001b[1;33m]\u001b[0m \u001b[1;33m=\u001b[0m \u001b[0mstr\u001b[0m\u001b[1;33m(\u001b[0m\u001b[0mfloat\u001b[0m\u001b[1;33m(\u001b[0m\u001b[0mamount\u001b[0m\u001b[1;33m)\u001b[0m\u001b[1;33m*\u001b[0m\u001b[1;36m0.75\u001b[0m\u001b[1;33m)\u001b[0m\u001b[1;33m\u001b[0m\u001b[1;33m\u001b[0m\u001b[0m\n\u001b[0;32m     11\u001b[0m             \u001b[0mmyArray\u001b[0m\u001b[1;33m[\u001b[0m\u001b[1;33m-\u001b[0m\u001b[1;36m1\u001b[0m\u001b[1;33m]\u001b[0m \u001b[1;33m=\u001b[0m \u001b[1;34m'US Dollar'\u001b[0m\u001b[1;33m\u001b[0m\u001b[1;33m\u001b[0m\u001b[0m\n\u001b[1;32m---> 12\u001b[1;33m     \u001b[0mf\u001b[0m\u001b[1;33m.\u001b[0m\u001b[0mwrite\u001b[0m\u001b[1;33m(\u001b[0m\u001b[1;34m\" \"\u001b[0m\u001b[1;33m.\u001b[0m\u001b[0mjoin\u001b[0m\u001b[1;33m(\u001b[0m\u001b[0mcurrency\u001b[0m\u001b[1;33m)\u001b[0m \u001b[1;33m+\u001b[0m \u001b[1;34m\" \\n\"\u001b[0m\u001b[1;33m)\u001b[0m\u001b[1;33m\u001b[0m\u001b[1;33m\u001b[0m\u001b[0m\n\u001b[0m\u001b[0;32m     13\u001b[0m \u001b[0mcurr_file\u001b[0m\u001b[1;33m.\u001b[0m\u001b[0mclose\u001b[0m\u001b[1;33m(\u001b[0m\u001b[1;33m)\u001b[0m\u001b[1;33m\u001b[0m\u001b[1;33m\u001b[0m\u001b[0m\n",
      "\u001b[1;31mNameError\u001b[0m: name 'f' is not defined"
     ]
    }
   ],
   "source": [
    "def curconv(currency,rate)\n",
    "curr_file=open('currencies.txt','r')\n",
    "curr_data=curr_file.read()\n",
    "for data in curr_data:\n",
    "    currency=data.split()\n",
    "    if currency:\n",
    "         m = re.search(r'\\$(\\d+(?:\\.\\d{1,2})?)\\.?$', currency[-1])\n",
    "         if m:\n",
    "            amount = m.groups()[0]\n",
    "            myArray[-2] = str(float(amount)*0.75)\n",
    "            myArray[-1] = 'US Dollar'\n",
    "    \n",
    "curr_file.close()"
   ]
  },
  {
   "cell_type": "markdown",
   "metadata": {},
   "source": [
    "## Question 7"
   ]
  },
  {
   "cell_type": "markdown",
   "metadata": {},
   "source": [
    "**Each of the following will cause an exception (an error). Identify what type of exception each will cause.**"
   ]
  },
  {
   "cell_type": "markdown",
   "metadata": {},
   "source": [
    "**1. Trying to add incompatible variables, as in adding 6 + ‘a’**"
   ]
  },
  {
   "cell_type": "code",
   "execution_count": 30,
   "metadata": {},
   "outputs": [
    {
     "name": "stdout",
     "output_type": "stream",
     "text": [
      "ERROR: unsupported operand type(s) for +: 'int' and 'str'\n"
     ]
    }
   ],
   "source": [
    "(x,y)=(6,'a')\n",
    "try:\n",
    "   r=x+y\n",
    "except Exception as e:\n",
    "    r=e\n",
    "print('ERROR:',r)"
   ]
  },
  {
   "cell_type": "markdown",
   "metadata": {},
   "source": [
    "**2. Referring to the 12th item of a list that has only 10 items**"
   ]
  },
  {
   "cell_type": "code",
   "execution_count": 36,
   "metadata": {},
   "outputs": [
    {
     "name": "stdout",
     "output_type": "stream",
     "text": [
      "ERROR: list index out of range\n"
     ]
    }
   ],
   "source": [
    "item_list=[1,2,3,4,5,6,7,8,9,10,15,32]\n",
    "try:\n",
    "    a=item_list[12]\n",
    "except Exception as er:\n",
    "    a=er\n",
    "print(\"ERROR:\",a)"
   ]
  },
  {
   "cell_type": "markdown",
   "metadata": {},
   "source": [
    "**3. Using a value that is out of range for a function’s input, such as calling math.sqrt(-1.0).**\n"
   ]
  },
  {
   "cell_type": "code",
   "execution_count": 39,
   "metadata": {},
   "outputs": [
    {
     "name": "stdout",
     "output_type": "stream",
     "text": [
      "ERROR: math domain error\n"
     ]
    }
   ],
   "source": [
    "import math\n",
    "try:\n",
    "    result=math.sqrt(-1.0)\n",
    "except Exception as er:\n",
    "    result=er\n",
    "print(\"ERROR:\",result)"
   ]
  },
  {
   "cell_type": "markdown",
   "metadata": {},
   "source": [
    "**4.Using an undeclared variable, such as print(x) when x has not been defined.**"
   ]
  },
  {
   "cell_type": "code",
   "execution_count": 45,
   "metadata": {},
   "outputs": [
    {
     "name": "stdout",
     "output_type": "stream",
     "text": [
      "ERROR: name 'u' is not defined\n"
     ]
    }
   ],
   "source": [
    "try:\n",
    "    a=print(u)\n",
    "except Exception as ex:\n",
    "    a=ex\n",
    "print(\"ERROR:\",a)"
   ]
  },
  {
   "cell_type": "markdown",
   "metadata": {},
   "source": [
    "**5.Trying to open a file that does not exist, such as mistyping the file name or looking in the wrong directory.**"
   ]
  },
  {
   "cell_type": "code",
   "execution_count": 10,
   "metadata": {},
   "outputs": [
    {
     "ename": "FileNotFoundError",
     "evalue": "[Errno 2] No such file or directory: 'currencie.txt'",
     "output_type": "error",
     "traceback": [
      "\u001b[1;31m---------------------------------------------------------------------------\u001b[0m",
      "\u001b[1;31mFileNotFoundError\u001b[0m                         Traceback (most recent call last)",
      "\u001b[1;32m<ipython-input-10-66d14522d156>\u001b[0m in \u001b[0;36m<module>\u001b[1;34m\u001b[0m\n\u001b[1;32m----> 1\u001b[1;33m \u001b[0mP_file\u001b[0m\u001b[1;33m=\u001b[0m\u001b[0mopen\u001b[0m\u001b[1;33m(\u001b[0m\u001b[1;34m'currencie.txt'\u001b[0m\u001b[1;33m,\u001b[0m\u001b[1;34m'r'\u001b[0m\u001b[1;33m)\u001b[0m\u001b[1;33m\u001b[0m\u001b[1;33m\u001b[0m\u001b[0m\n\u001b[0m\u001b[0;32m      2\u001b[0m \u001b[1;32mtry\u001b[0m\u001b[1;33m:\u001b[0m\u001b[1;33m\u001b[0m\u001b[1;33m\u001b[0m\u001b[0m\n\u001b[0;32m      3\u001b[0m     \u001b[0ma\u001b[0m\u001b[1;33m=\u001b[0m\u001b[0mP_file\u001b[0m\u001b[1;33m.\u001b[0m\u001b[0mread\u001b[0m\u001b[1;33m(\u001b[0m\u001b[1;33m)\u001b[0m\u001b[1;33m\u001b[0m\u001b[1;33m\u001b[0m\u001b[0m\n\u001b[0;32m      4\u001b[0m \u001b[1;32mexcept\u001b[0m \u001b[0mException\u001b[0m \u001b[1;32mas\u001b[0m \u001b[0mer\u001b[0m\u001b[1;33m:\u001b[0m\u001b[1;33m\u001b[0m\u001b[1;33m\u001b[0m\u001b[0m\n\u001b[0;32m      5\u001b[0m     \u001b[0ma\u001b[0m\u001b[1;33m=\u001b[0m\u001b[0mer\u001b[0m\u001b[1;33m\u001b[0m\u001b[1;33m\u001b[0m\u001b[0m\n",
      "\u001b[1;31mFileNotFoundError\u001b[0m: [Errno 2] No such file or directory: 'currencie.txt'"
     ]
    }
   ],
   "source": [
    "P_file=open('currencie.txt','r')\n",
    "try:\n",
    "    a=P_file.read()\n",
    "except Exception as er:\n",
    "    a=er\n",
    "print(\"ERROR:\",a)"
   ]
  },
  {
   "cell_type": "markdown",
   "metadata": {},
   "source": [
    "## Question 8"
   ]
  },
  {
   "cell_type": "markdown",
   "metadata": {},
   "source": [
    "**Encryption is the process of hiding the meaning of a text by substituting letters in the message with other letters, according to some system. If the process is successful, no one but the intended recipient can understand the encrypted message. Cryptanalysis refers to attempts to undo the encryption, even if some details of the encryption are unknown (for example, if an encrypted message has been intercepted). The first step of cryptanalysis is often to build up a table of letter frequencies in the encrypted text. Assume that the string letters is already defined as 'abcdefghijklmnopqrstuvwxyz'. Write a function called frequencies() that takes a string as its only parameter, and returns a list of integers, showing the number of times each character appears in the text. Your function may ignore any characters that are not in letters.**"
   ]
  },
  {
   "cell_type": "code",
   "execution_count": 26,
   "metadata": {},
   "outputs": [],
   "source": [
    "def frequencies(txt_data):\n",
    "    input_data='abcdefghijklmnopqrstuvwxyz'\n",
    "    txt_data += input_data\n",
    "    txt_data=txt_data.split()\n",
    "    frequency=[]\n",
    "    for word in txt_data:\n",
    "        frequency.append(txt_data.count(word))\n",
    "    print(txt_data)\n",
    "    print(\"Frequencies\\n\" + str(frequency) + \"\\n\")"
   ]
  },
  {
   "cell_type": "code",
   "execution_count": 28,
   "metadata": {},
   "outputs": [
    {
     "name": "stdout",
     "output_type": "stream",
     "text": [
      "['The', 'quick', 'red', 'fox', 'got', 'bored', 'and', 'went', 'home.', 'abcdefghijklmnopqrstuvwxyz']\n",
      "Frequencies\n",
      "[1, 1, 1, 1, 1, 1, 1, 1, 1, 1]\n",
      "\n"
     ]
    }
   ],
   "source": [
    "frequencies('The quick red fox got bored and went home. ')"
   ]
  },
  {
   "cell_type": "markdown",
   "metadata": {},
   "source": [
    "## Question 9"
   ]
  },
  {
   "cell_type": "markdown",
   "metadata": {},
   "source": [
    "**The Sieve of Erastophenes is an algorithm -- known to ancient Greeks -- that finds all prime numbers up to a given number n. It does this by first creating a list L from 2 to n and an (initially empty) list primeL. The algorithm then takes the first number in list L (2) and appends it to list primeL, and then removes 2 and all its multiples (4,6,8,10,12, ...) from L. The algorithm then takes the new first number in L (3) and appends it to list primeL, and then removes from L 3 and all its maining multiples (9,15,21,...). So, in every iteration, the first number of list L is appended to list primeL and then it and its multiples are removed from list L. The iterations stop when list L becomes empty. Write a function sieve() that takes as input a positive integer n, implements the above algorithm, and returns a list of all prime numbers up\n",
    "to n.**"
   ]
  },
  {
   "cell_type": "code",
   "execution_count": null,
   "metadata": {},
   "outputs": [],
   "source": [
    "def seive():\n",
    "    "
   ]
  },
  {
   "cell_type": "markdown",
   "metadata": {},
   "source": [
    "## Question 10"
   ]
  },
  {
   "cell_type": "markdown",
   "metadata": {},
   "source": [
    "**Implement function triangleArea(a,b,c) that takes as input the lengths of the 3 sides of a triangle and returns the area of the triangle. By Heron's formula, the area of a triangle with side lengths a, b, and c is s(s - a)(s -b)(s -c) , where\n",
    "s = (a+b+c)/2.**"
   ]
  },
  {
   "cell_type": "code",
   "execution_count": 61,
   "metadata": {},
   "outputs": [],
   "source": [
    "import math\n",
    "def triangleArea(a,b,c):\n",
    "    s=((a+b+c)/2)\n",
    "    result=s*(s-a)*(s-b)*(s-c)\n",
    "    result=math.sqrt(result)\n",
    "    print(\"The area of triangle:\",result)"
   ]
  },
  {
   "cell_type": "code",
   "execution_count": 62,
   "metadata": {},
   "outputs": [
    {
     "name": "stdout",
     "output_type": "stream",
     "text": [
      "The area of triangle: 1.7320508075688772\n"
     ]
    }
   ],
   "source": [
    "triangleArea(2,2,2)"
   ]
  },
  {
   "cell_type": "code",
   "execution_count": null,
   "metadata": {},
   "outputs": [],
   "source": []
  }
 ],
 "metadata": {
  "cells": [
   {
    "cell_type": "markdown",
    "metadata": {},
    "source": [
     "# Problem Set 1"
    ]
   },
   {
    "cell_type": "markdown",
    "metadata": {},
    "source": [
     "## Question 1\n",
     "   **What data type is each of the following?**"
    ]
   },
   {
    "cell_type": "markdown",
    "metadata": {},
    "source": [
     "   - 5 = Integer\n",
     "   - 5.0 = Float\n",
     "   - 5 > 1 = Boolean\n",
     "   - '5' = String\n",
     "   - 5*2 = Integer\n",
     "   - '5'*2 = String\n",
     "   - '5' + '2' = String\n",
     "   - 5/2 = Float\n",
     "   - 5//2 = Integer\n",
     "   - [5,2,1] = List\n",
     "   - 5 in [1,4,6] = Boolean\n",
     "   - Math.pi = Float   "
    ]
   },
   {
    "cell_type": "markdown",
    "metadata": {},
    "source": [
     "## Question 2\n",
     "**a. How many letters are there in 'Supercalifragilisticexpialidocious'?**"
    ]
   },
   {
    "cell_type": "code",
    "execution_count": 12,
    "metadata": {},
    "outputs": [
     {
      "name": "stdout",
      "output_type": "stream",
      "text": [
       "There are 34 letters\n"
      ]
     }
    ],
    "source": [
     "letter='Supercalifragilisticexpialidocious'\n",
     "print('There are',len(letter),'letters')"
    ]
   },
   {
    "cell_type": "markdown",
    "metadata": {},
    "source": [
     "**b. Does 'Supercalifragilisticexpialidocious' contain 'ice' as a substring?**"
    ]
   },
   {
    "cell_type": "code",
    "execution_count": 13,
    "metadata": {},
    "outputs": [
     {
      "name": "stdout",
      "output_type": "stream",
      "text": [
       "Yes\n"
      ]
     }
    ],
    "source": [
     "case='ice' in letter\n",
     "if(case == True):\n",
     "    print('Yes')\n",
     "else:\n",
     "    print('No')"
    ]
   },
   {
    "cell_type": "markdown",
    "metadata": {},
    "source": [
     "**c. Which of the following words is the longest:\n",
     "Supercalifragilisticexpialidocious, Honorificabilitudinitatibus, or\n",
     "Bababadalgharaghtakamminarronnkonn?**"
    ]
   },
   {
    "cell_type": "code",
    "execution_count": 16,
    "metadata": {},
    "outputs": [
     {
      "name": "stdout",
      "output_type": "stream",
      "text": [
       "The Longest word is Supercalifragilisticexpialidocious\n"
      ]
     }
    ],
    "source": [
     "word_list=['Supercalifragilisticexpialidocious','Honorificabilitudinitatibus','Bababadalgharaghtakamminarronnkonn']\n",
     "\n",
     "long_word=max(word_list,key=len)\n",
     "\n",
     "print('The Longest word is',long_word)"
    ]
   },
   {
    "cell_type": "markdown",
    "metadata": {},
    "source": [
     "**d. Which composer comes first in the dictionary: 'Berlioz', 'Borodin', 'Brian',\n",
     "'Bartok', 'Bellini', 'Buxtehude', 'Bernstein'. Which one comes last?**"
    ]
   },
   {
    "cell_type": "code",
    "execution_count": 17,
    "metadata": {},
    "outputs": [
     {
      "name": "stdout",
      "output_type": "stream",
      "text": [
       "Bartok comes first in the dictionary\n",
       "Buxtehude comes last in the dictionary\n"
      ]
     }
    ],
    "source": [
     "Composer_list=['Berlioz','Borodin','Brian','Bartok','Bellini','Buxtehude','Bernstein']\n",
     "Composer_list.sort()\n",
     "print(Composer_list[0],'comes first in the dictionary')\n",
     "max_len=len(Composer_list)\n",
     "print(Composer_list[max_len-1],'comes last in the dictionary')"
    ]
   },
   {
    "cell_type": "markdown",
    "metadata": {},
    "source": [
     "## Question 3\n",
     "**a. Write a function inside(x,y,x1,y1,x2,y2) that returns True or False\n",
     "depending on whether the point (x,y) lies in the rectangle with lower left\n",
     "corner (x1,y1) and upper right corner (x2,y2).**\n"
    ]
   },
   {
    "cell_type": "code",
    "execution_count": 35,
    "metadata": {},
    "outputs": [
     {
      "data": {
       "text/plain": [
        "True"
       ]
      },
      "execution_count": 35,
      "metadata": {},
      "output_type": "execute_result"
     }
    ],
    "source": [
     "def inside(x,y,x1,y1,x2,y2):\n",
     "    if(x>x1 and y>y1 and x<x2 and y<y2):\n",
     "        return True\n",
     "    else:\n",
     "        return False\n",
     "inside(1,1,0,0,2,3)"
    ]
   },
   {
    "cell_type": "code",
    "execution_count": 34,
    "metadata": {},
    "outputs": [
     {
      "data": {
       "text/plain": [
        "False"
       ]
      },
      "execution_count": 34,
      "metadata": {},
      "output_type": "execute_result"
     }
    ],
    "source": [
     "inside(-1,-1,0,0,2,3)"
    ]
   },
   {
    "cell_type": "markdown",
    "metadata": {},
    "source": [
     "**b. Use function inside() from part a. to write an expression that tests whether\n",
     "the point (1,1) lies in both of the following rectangles: one with lower left\n",
     "corner (0.3, 0.5) and upper right corner (1.1, 0.7) and the other with lower\n",
     "left corner (0.5, 0.2) and upper right corner (1.1, 2).**"
    ]
   },
   {
    "cell_type": "code",
    "execution_count": 36,
    "metadata": {},
    "outputs": [
     {
      "data": {
       "text/plain": [
        "False"
       ]
      },
      "execution_count": 36,
      "metadata": {},
      "output_type": "execute_result"
     }
    ],
    "source": [
     "inside(1,1,0.3,0.5,1.1,0.7)"
    ]
   },
   {
    "cell_type": "code",
    "execution_count": 37,
    "metadata": {},
    "outputs": [
     {
      "data": {
       "text/plain": [
        "True"
       ]
      },
      "execution_count": 37,
      "metadata": {},
      "output_type": "execute_result"
     }
    ],
    "source": [
     "inside(1,1,0.5,0.2,1.1,2)"
    ]
   },
   {
    "cell_type": "markdown",
    "metadata": {},
    "source": [
     "## Question 4\n",
     "**You can turn a word into pig-Latin using the following two rules (simplified):**"
    ]
   },
   {
    "cell_type": "markdown",
    "metadata": {},
    "source": [
     " - **If the word starts with a consonant, move that letter to the end and append'ay'. For example, 'happy' becomes 'appyhay' and 'pencil' becomes 'encilpay'.**\n",
     " - **If the word starts with a vowel, simply append 'way' to the end of the word. For example, 'enter' becomes 'enterway' and 'other' becomes 'otherway' . For our purposes, there are 5 vowels: a, e, i, o, u (so we count y as a consonant).**"
    ]
   },
   {
    "cell_type": "markdown",
    "metadata": {},
    "source": [
     "**Write a function pig() that takes a word (i.e., a string) as input and returns its pigLatin form. Your function should still work if the input word contains upper case\n",
     "characters. Your output should always be lower case however.**"
    ]
   },
   {
    "cell_type": "code",
    "execution_count": 45,
    "metadata": {},
    "outputs": [
     {
      "name": "stdout",
      "output_type": "stream",
      "text": [
       "The first letter is consonant.\n",
       "The final letter in Pig Latin is: appyhay\n"
      ]
     }
    ],
    "source": [
     "# https://geektechstuff.com/2018/12/12/convert-words-to-pig-latin-python/\n",
     "def pig(in_word):\n",
     "    a='way'\n",
     "    b='ay'\n",
     "    consonant=('B','C','D','F','G','H','J','K','L','M','N','P','Q','R','S','T','Y','V','X','Z')\n",
     "    vowel=('A','E','I','O','U')\n",
     "    first_l=in_word[0]\n",
     "    first_l=str(first_l)\n",
     "    first_l=first_l.upper()\n",
     "    if first_l in consonant:\n",
     "        print('The first letter is consonant.')\n",
     "        len_in=len(in_word)\n",
     "        rem_in=in_word[1:len_in]  #exclude first letter from user input\n",
     "        final_word=rem_in + first_l.lower() + b\n",
     "    elif first_l in vowel:\n",
     "        print('The first letter is vowel')\n",
     "        final_word=in_word.lower() + a\n",
     "    else:    \n",
     "        print('The word',first_l,'is undefined.')\n",
     "    print('The final letter in Pig Latin is:',final_word)\n",
     "pig('happy')"
    ]
   },
   {
    "cell_type": "code",
    "execution_count": 46,
    "metadata": {},
    "outputs": [
     {
      "name": "stdout",
      "output_type": "stream",
      "text": [
       "The first letter is vowel\n",
       "The final letter in Pig Latin is: enterway\n"
      ]
     }
    ],
    "source": [
     "pig('Enter')"
    ]
   },
   {
    "cell_type": "markdown",
    "metadata": {},
    "source": [
     "## Question 5\n",
     "**File bloodtype1.txt records blood-types of patients (A, B, AB, O or OO) at a clinic.\n",
     "Write a function bldcount() that reads the file with name name and reports (i.e.,\n",
     "prints) how many patients there are in each bloodtype.**"
    ]
   },
   {
    "cell_type": "code",
    "execution_count": 50,
    "metadata": {},
    "outputs": [
     {
      "ename": "OSError",
      "evalue": "[Errno 22] Invalid argument: 'D:\\\\Drivers\\x08loodtype1.txt'",
      "output_type": "error",
      "traceback": [
       "\u001b[1;31m---------------------------------------------------------------------------\u001b[0m",
       "\u001b[1;31mOSError\u001b[0m                                   Traceback (most recent call last)",
       "\u001b[1;32m<ipython-input-50-4c473d2114cb>\u001b[0m in \u001b[0;36m<module>\u001b[1;34m\u001b[0m\n\u001b[0;32m      2\u001b[0m     \u001b[0mbt\u001b[0m\u001b[1;33m=\u001b[0m\u001b[0mopen\u001b[0m\u001b[1;33m(\u001b[0m\u001b[1;34m'D:\\\\Drivers\\bloodtype1.txt'\u001b[0m\u001b[1;33m,\u001b[0m\u001b[1;34m'r'\u001b[0m\u001b[1;33m)\u001b[0m\u001b[1;33m\u001b[0m\u001b[1;33m\u001b[0m\u001b[0m\n\u001b[0;32m      3\u001b[0m     \u001b[0mprint\u001b[0m\u001b[1;33m(\u001b[0m\u001b[0mf\u001b[0m\u001b[1;33m.\u001b[0m\u001b[0mread\u001b[0m\u001b[1;33m(\u001b[0m\u001b[1;33m)\u001b[0m\u001b[1;33m)\u001b[0m\u001b[1;33m\u001b[0m\u001b[1;33m\u001b[0m\u001b[0m\n\u001b[1;32m----> 4\u001b[1;33m \u001b[0mbldcount\u001b[0m\u001b[1;33m(\u001b[0m\u001b[1;33m)\u001b[0m\u001b[1;33m\u001b[0m\u001b[1;33m\u001b[0m\u001b[0m\n\u001b[0m",
       "\u001b[1;32m<ipython-input-50-4c473d2114cb>\u001b[0m in \u001b[0;36mbldcount\u001b[1;34m()\u001b[0m\n\u001b[0;32m      1\u001b[0m \u001b[1;32mdef\u001b[0m \u001b[0mbldcount\u001b[0m\u001b[1;33m(\u001b[0m\u001b[1;33m)\u001b[0m\u001b[1;33m:\u001b[0m\u001b[1;33m\u001b[0m\u001b[1;33m\u001b[0m\u001b[0m\n\u001b[1;32m----> 2\u001b[1;33m     \u001b[0mbt\u001b[0m\u001b[1;33m=\u001b[0m\u001b[0mopen\u001b[0m\u001b[1;33m(\u001b[0m\u001b[1;34m'D:\\\\Drivers\\bloodtype1.txt'\u001b[0m\u001b[1;33m,\u001b[0m\u001b[1;34m'r'\u001b[0m\u001b[1;33m)\u001b[0m\u001b[1;33m\u001b[0m\u001b[1;33m\u001b[0m\u001b[0m\n\u001b[0m\u001b[0;32m      3\u001b[0m     \u001b[0mprint\u001b[0m\u001b[1;33m(\u001b[0m\u001b[0mf\u001b[0m\u001b[1;33m.\u001b[0m\u001b[0mread\u001b[0m\u001b[1;33m(\u001b[0m\u001b[1;33m)\u001b[0m\u001b[1;33m)\u001b[0m\u001b[1;33m\u001b[0m\u001b[1;33m\u001b[0m\u001b[0m\n\u001b[0;32m      4\u001b[0m \u001b[0mbldcount\u001b[0m\u001b[1;33m(\u001b[0m\u001b[1;33m)\u001b[0m\u001b[1;33m\u001b[0m\u001b[1;33m\u001b[0m\u001b[0m\n",
       "\u001b[1;31mOSError\u001b[0m: [Errno 22] Invalid argument: 'D:\\\\Drivers\\x08loodtype1.txt'"
      ]
     }
    ],
    "source": [
     "def bldcount():\n",
     "    bt=open('D:\\\\Drivers\\bloodtype1.txt','r')\n",
     "    print(f.read())\n",
     "bldcount()"
    ]
   },
   {
    "cell_type": "code",
    "execution_count": null,
    "metadata": {},
    "outputs": [],
    "source": []
   }
  ],
  "kernelspec": {
   "display_name": "Python 3",
   "language": "python",
   "name": "python3"
  },
  "language_info": {
   "codemirror_mode": {
    "name": "ipython",
    "version": 3
   },
   "file_extension": ".py",
   "mimetype": "text/x-python",
   "name": "python",
   "nbconvert_exporter": "python",
   "pygments_lexer": "ipython3",
   "version": "3.8.5"
  },
  "metadata": {
   "kernelspec": {
    "display_name": "Python 3",
    "language": "python",
    "name": "python3"
   },
   "language_info": {
    "codemirror_mode": {
     "name": "ipython",
     "version": 3
    },
    "file_extension": ".py",
    "mimetype": "text/x-python",
    "name": "python",
    "nbconvert_exporter": "python",
    "pygments_lexer": "ipython3",
    "version": "3.8.5"
   }
  },
  "nbformat": 4,
  "nbformat_minor": 4
 },
 "nbformat": 4,
 "nbformat_minor": 4
}
